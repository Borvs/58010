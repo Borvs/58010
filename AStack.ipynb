{
  "nbformat": 4,
  "nbformat_minor": 0,
  "metadata": {
    "colab": {
      "provenance": [],
      "authorship_tag": "ABX9TyP0vnfcrM41jS3l6WYSdlZE",
      "include_colab_link": true
    },
    "kernelspec": {
      "name": "python3",
      "display_name": "Python 3"
    },
    "language_info": {
      "name": "python"
    }
  },
  "cells": [
    {
      "cell_type": "markdown",
      "metadata": {
        "id": "view-in-github",
        "colab_type": "text"
      },
      "source": [
        "<a href=\"https://colab.research.google.com/github/GabrielBoribor/DSA-58010/blob/main/AStack.ipynb\" target=\"_parent\"><img src=\"https://colab.research.google.com/assets/colab-badge.svg\" alt=\"Open In Colab\"/></a>"
      ]
    },
    {
      "cell_type": "code",
      "execution_count": 22,
      "metadata": {
        "colab": {
          "base_uri": "https://localhost:8080/"
        },
        "id": "F5bnVi1mFgs1",
        "outputId": "0b485452-07da-4b6c-a271-3db8ac84bdd7"
      },
      "outputs": [
        {
          "output_type": "stream",
          "name": "stdout",
          "text": [
            "\n",
            " After popping Thursday, the new elements in the stac\n",
            "['mon']\n"
          ]
        }
      ],
      "source": [
        "class Stack:\n",
        "   def __init__(self):\n",
        "      self.stack = []\n",
        "\n",
        "   def add(self, dataval):\n",
        "# Use list append method to add element\n",
        "      if dataval not in self.stack:\n",
        "         self.stack.append(dataval)\n",
        "         return True\n",
        "      else:\n",
        "         return False\n",
        "# Use list pop method to remove element\n",
        "   def remove(self):\n",
        "      if len(self.stack) <= 0:\n",
        "         return (\"No element in the Stack\")\n",
        "      else:\n",
        "         return self.stack.pop()\n",
        "\n",
        "AStack = []\n",
        "#to APPEND/ push a ll the elements in the stack\n",
        "AStack.append('mon')\n",
        "AStack.append('Tue')\n",
        "AStack.append('Wed')\n",
        "AStack.append('Thu')\n",
        "\n",
        "#to remove each element/pop\n",
        "\n",
        "AStack.pop()\n",
        "AStack.pop()\n",
        "AStack.pop()\n",
        "print('\\n After popping Thursday, the new elements in the stack')\n",
        "print(AStack)\n",
        "\n",
        "#AStack.add(\"Tue\")\n",
        "#AStack.add(\"Wed\")\n",
        "#AStack.add(\"Thu\")\n",
        "#AStack.add(\"Fri\")\n",
        "#AStack.add(\"Sat\")\n",
        "#AStack.add(\"Sun\")\n",
        "\n",
        "#print(AStack.remove())\n",
        "#print(AStack.remove())\n",
        "#print(AStack.remove())\n",
        "#print(AStack.remove())\n",
        "#print(AStack.remove())\n",
        "#print(AStack.remove())\n",
        "\n",
        "\n",
        "\n"
      ]
    },
    {
      "cell_type": "code",
      "source": [],
      "metadata": {
        "id": "ZP1MaX5xFhLF"
      },
      "execution_count": null,
      "outputs": []
    }
  ]
}