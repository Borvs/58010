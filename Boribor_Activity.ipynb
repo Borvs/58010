{
  "nbformat": 4,
  "nbformat_minor": 0,
  "metadata": {
    "colab": {
      "provenance": [],
      "authorship_tag": "ABX9TyOeF+2884YjrzOpzArpO+Yc",
      "include_colab_link": true
    },
    "kernelspec": {
      "name": "python3",
      "display_name": "Python 3"
    },
    "language_info": {
      "name": "python"
    }
  },
  "cells": [
    {
      "cell_type": "markdown",
      "metadata": {
        "id": "view-in-github",
        "colab_type": "text"
      },
      "source": [
        "<a href=\"https://colab.research.google.com/github/GabrielBoribor/DSA-58010/blob/main/Boribor_Activity.ipynb\" target=\"_parent\"><img src=\"https://colab.research.google.com/assets/colab-badge.svg\" alt=\"Open In Colab\"/></a>"
      ]
    },
    {
      "cell_type": "markdown",
      "source": [
        "Question 1"
      ],
      "metadata": {
        "id": "DY2GUueNY8PQ"
      }
    },
    {
      "cell_type": "code",
      "source": [
        "NUM = [1,2,3,4,5,6,7,8,9,10]\n",
        "sum = 0\n",
        "  \n",
        "for g in NUM:\n",
        "  if g <= 10:\n",
        "      sum = sum + g\n",
        "\n",
        "print(sum)"
      ],
      "metadata": {
        "colab": {
          "base_uri": "https://localhost:8080/"
        },
        "id": "Q9w0jxbmY9uU",
        "outputId": "1c68fa1f-119c-44f7-ebb9-2913f6afc49a"
      },
      "execution_count": null,
      "outputs": [
        {
          "output_type": "stream",
          "name": "stdout",
          "text": [
            "55\n"
          ]
        }
      ]
    },
    {
      "cell_type": "markdown",
      "source": [
        "Question 2"
      ],
      "metadata": {
        "id": "jqSFOhQ7ZzGA"
      }
    },
    {
      "cell_type": "code",
      "source": [
        "NUM = [1,2,3,4,5,6,7,8,9,10]\n",
        "NUM.append(15)\n",
        "print(NUM)"
      ],
      "metadata": {
        "colab": {
          "base_uri": "https://localhost:8080/"
        },
        "id": "wt1XCXnxZ0p2",
        "outputId": "f2b94634-3740-425c-c767-8ba1ca75cdf2"
      },
      "execution_count": null,
      "outputs": [
        {
          "output_type": "stream",
          "name": "stdout",
          "text": [
            "[1, 2, 3, 4, 5, 6, 7, 8, 9, 10, 15]\n"
          ]
        }
      ]
    },
    {
      "cell_type": "markdown",
      "source": [
        "Question 3"
      ],
      "metadata": {
        "id": "qVQBI3aYaMOY"
      }
    },
    {
      "cell_type": "code",
      "source": [
        "NUM = [1,2,3,4,5,6,7,8,9,10]\n",
        "NUM.insert(1, 15)\n",
        "print(NUM)"
      ],
      "metadata": {
        "colab": {
          "base_uri": "https://localhost:8080/"
        },
        "id": "q51wIkNBaNX8",
        "outputId": "01bed12b-dc76-42e6-be94-0fb8ed630c58"
      },
      "execution_count": null,
      "outputs": [
        {
          "output_type": "stream",
          "name": "stdout",
          "text": [
            "[1, 15, 2, 3, 4, 5, 6, 7, 8, 9, 10]\n"
          ]
        }
      ]
    },
    {
      "cell_type": "markdown",
      "source": [
        "Question 4"
      ],
      "metadata": {
        "id": "mjz_yn2gaN5e"
      }
    },
    {
      "cell_type": "code",
      "source": [
        "NUM = [5,4,3,2,1]\n",
        "NUM.reverse()\n",
        "print(NUM)"
      ],
      "metadata": {
        "colab": {
          "base_uri": "https://localhost:8080/"
        },
        "id": "oXWFZvcfaPYX",
        "outputId": "bcc2b3cc-3c75-4be2-c25e-4b1231b5a1f9"
      },
      "execution_count": null,
      "outputs": [
        {
          "output_type": "stream",
          "name": "stdout",
          "text": [
            "[1, 2, 3, 4, 5]\n"
          ]
        }
      ]
    },
    {
      "cell_type": "markdown",
      "source": [
        "Question 5"
      ],
      "metadata": {
        "id": "OQ1gSMouaPii"
      }
    },
    {
      "cell_type": "code",
      "source": [
        "numbers = [5,4,3,2,1]\n",
        "l = len(numbers)\n",
        "print(l)"
      ],
      "metadata": {
        "id": "87hvcppLaSur",
        "colab": {
          "base_uri": "https://localhost:8080/"
        },
        "outputId": "90b2b455-cc7e-4497-989a-901674932543"
      },
      "execution_count": 14,
      "outputs": [
        {
          "output_type": "stream",
          "name": "stdout",
          "text": [
            "5\n"
          ]
        }
      ]
    }
  ]
}