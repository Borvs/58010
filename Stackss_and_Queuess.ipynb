{
  "nbformat": 4,
  "nbformat_minor": 0,
  "metadata": {
    "colab": {
      "provenance": [],
      "authorship_tag": "ABX9TyOcwjT/yGh/3BUBlT1SbvJH",
      "include_colab_link": true
    },
    "kernelspec": {
      "name": "python3",
      "display_name": "Python 3"
    },
    "language_info": {
      "name": "python"
    }
  },
  "cells": [
    {
      "cell_type": "markdown",
      "metadata": {
        "id": "view-in-github",
        "colab_type": "text"
      },
      "source": [
        "<a href=\"https://colab.research.google.com/github/GabrielBoribor/DSA-58010/blob/main/Stackss_and_Queuess.ipynb\" target=\"_parent\"><img src=\"https://colab.research.google.com/assets/colab-badge.svg\" alt=\"Open In Colab\"/></a>"
      ]
    },
    {
      "cell_type": "code",
      "execution_count": 2,
      "metadata": {
        "colab": {
          "base_uri": "https://localhost:8080/",
          "height": 109
        },
        "id": "7FJm-W14L60L",
        "outputId": "8ca1a0a8-1793-486e-bcab-1ea67795944b"
      },
      "outputs": [
        {
          "output_type": "stream",
          "name": "stdout",
          "text": [
            "December\n",
            "January\n",
            "February\n",
            "March\n"
          ]
        },
        {
          "output_type": "execute_result",
          "data": {
            "text/plain": [
              "'March'"
            ],
            "application/vnd.google.colaboratory.intrinsic+json": {
              "type": "string"
            }
          },
          "metadata": {},
          "execution_count": 2
        }
      ],
      "source": [
        "#Python program to demo stack using Linked List\n",
        "class Node:\n",
        "  def __init__(self,data):\n",
        "    self.data = data\n",
        "    self.next = None  #initialize as null\n",
        "    self.head = []\n",
        "\n",
        "class LinkedList: \n",
        "  def __init__(self):\n",
        "    self.head = None #initialize head as null\n",
        "\n",
        "  def printList(self):\n",
        "      temp = self.head\n",
        "      while(temp):\n",
        "        print(temp.data)\n",
        "        temp = temp.next\n",
        "\n",
        "  def is_empty(self):\n",
        "      if self.head == None:\n",
        "        return True\n",
        "      else:\n",
        "        return False\n",
        "\n",
        "  def remove(self):\n",
        "      if self.is_empty():\n",
        "        return None\n",
        "      else:\n",
        "        removednode = fourth\n",
        "        return removednode.data\n",
        "\n",
        "\n",
        "mylist = LinkedList()\n",
        "mylist.head = Node('December')\n",
        "second = Node('January')\n",
        "third = Node('February')\n",
        "fourth = Node('March')\n",
        "\n",
        "mylist.head.next = second\n",
        "second.next = third\n",
        "third.next = fourth\n",
        "mylist.printList()\n",
        "mylist.remove()\n"
      ]
    },
    {
      "cell_type": "code",
      "source": [],
      "metadata": {
        "id": "gvFRsBsLMFZn"
      },
      "execution_count": null,
      "outputs": []
    }
  ]
}