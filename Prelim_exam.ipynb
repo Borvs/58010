{
  "nbformat": 4,
  "nbformat_minor": 0,
  "metadata": {
    "colab": {
      "provenance": [],
      "authorship_tag": "ABX9TyPs4j409ab1ZWGFDktKu6Au",
      "include_colab_link": true
    },
    "kernelspec": {
      "name": "python3",
      "display_name": "Python 3"
    },
    "language_info": {
      "name": "python"
    }
  },
  "cells": [
    {
      "cell_type": "markdown",
      "metadata": {
        "id": "view-in-github",
        "colab_type": "text"
      },
      "source": [
        "<a href=\"https://colab.research.google.com/github/GabrielBoribor/DSA-58010/blob/main/Prelim_exam.ipynb\" target=\"_parent\"><img src=\"https://colab.research.google.com/assets/colab-badge.svg\" alt=\"Open In Colab\"/></a>"
      ]
    },
    {
      "cell_type": "code",
      "execution_count": 22,
      "metadata": {
        "colab": {
          "base_uri": "https://localhost:8080/"
        },
        "id": "X9uSFcVMRfzK",
        "outputId": "0d3b59e6-e76e-4756-d6dc-61cc8f97feab"
      },
      "outputs": [
        {
          "output_type": "stream",
          "name": "stdout",
          "text": [
            "[2. 3. 4. 5. 6. 7. 8. 9.]\n",
            "The number of composite numbers are: 4\n"
          ]
        }
      ],
      "source": [
        "import numpy as numpy\n",
        "\n",
        "\n",
        "Array = numpy.array([]) \n",
        "CompositesNum = 0 \n",
        "y = 2 \n",
        "\n",
        "\n",
        "while y < 10:  \n",
        "  Array = numpy.append(Array, [y]) \n",
        "  y= y + 1  \n",
        "\n",
        "\n",
        "for CNum in Array: \n",
        "  if (CNum <= 1 or CNum <= 3): \n",
        "    CompositesNum = CompositesNum - 1\n",
        "\n",
        "\n",
        "  if (CNum % 2 == 0 or CNum % 3 == 0):\n",
        "        CompositesNum =CompositesNum + 1\n",
        "\n",
        "print(Array)\n",
        "print(\"The number of composite numbers are:\", CompositesNum)"
      ]
    }
  ]
}