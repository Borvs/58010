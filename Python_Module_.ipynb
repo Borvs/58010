{
  "nbformat": 4,
  "nbformat_minor": 0,
  "metadata": {
    "colab": {
      "provenance": [],
      "authorship_tag": "ABX9TyN/Ew87p2B9pYryf/dfJvIR",
      "include_colab_link": true
    },
    "kernelspec": {
      "name": "python3",
      "display_name": "Python 3"
    },
    "language_info": {
      "name": "python"
    }
  },
  "cells": [
    {
      "cell_type": "markdown",
      "metadata": {
        "id": "view-in-github",
        "colab_type": "text"
      },
      "source": [
        "<a href=\"https://colab.research.google.com/github/GabrielBoribor/DSA-58010/blob/main/Python_Module_.ipynb\" target=\"_parent\"><img src=\"https://colab.research.google.com/assets/colab-badge.svg\" alt=\"Open In Colab\"/></a>"
      ]
    },
    {
      "cell_type": "markdown",
      "source": [
        "Example 1\n"
      ],
      "metadata": {
        "id": "lTGdRC_x47Hq"
      }
    },
    {
      "cell_type": "code",
      "source": [
        "import array as r\n",
        "\n",
        "r.typecodes #get all typecodes\n",
        "a = r.array('i',[1,2,3,4,5,6])  #initializing array a\n",
        "b = r.array('f',[1.5,2.5,3.5,4.5,5.5,6.5]) #initializing array b\n",
        "print(a.typecode) #getting the typecode of a\n",
        "print(b.typecode) #getting the typecode of b\n",
        "\n"
      ],
      "metadata": {
        "colab": {
          "base_uri": "https://localhost:8080/"
        },
        "id": "9aA_oijK496z",
        "outputId": "cc5060ff-e70c-4c38-a7fa-b266f3f608d2"
      },
      "execution_count": 16,
      "outputs": [
        {
          "output_type": "stream",
          "name": "stdout",
          "text": [
            "i\n",
            "f\n"
          ]
        }
      ]
    },
    {
      "cell_type": "markdown",
      "source": [
        "Example 2. Create/convert the elements of array A to float/decimal number"
      ],
      "metadata": {
        "id": "AmFTqTb78wxK"
      }
    },
    {
      "cell_type": "code",
      "source": [
        "A = array.array ('f',[1,2,3,4,5,6])\n",
        "print(A)"
      ],
      "metadata": {
        "colab": {
          "base_uri": "https://localhost:8080/"
        },
        "id": "SUsPa_Ue85se",
        "outputId": "1c531582-8f49-48be-8570-b468a8c1d849"
      },
      "execution_count": 17,
      "outputs": [
        {
          "output_type": "stream",
          "name": "stdout",
          "text": [
            "array('f', [1.0, 2.0, 3.0, 4.0, 5.0, 6.0])\n"
          ]
        }
      ]
    },
    {
      "cell_type": "markdown",
      "source": [
        "Example 3"
      ],
      "metadata": {
        "id": "FhNAGy_fAEGo"
      }
    },
    {
      "cell_type": "code",
      "source": [
        "import array \n",
        "a = array.array('i',[4,5,6,7]) # initializing array A\n",
        "b = array.array('i',[1,2,3]) # initializing array B\n",
        "a.insert (1,2) # inserting element: 2 at index: 1\n",
        "print(a) # printing array a\n",
        "a.insert (-1,0) #insert element: 0 at index: -1\n",
        "print(a)\n",
        "a.insert(6,8) #insert element: 8 at index: 6, this is  out of range\n",
        "print(a)\n",
        "b[0] = 5\n",
        "print(b)\n",
        "b[-1] = 9\n",
        "print(b)"
      ],
      "metadata": {
        "colab": {
          "base_uri": "https://localhost:8080/"
        },
        "id": "C0ZZNOR794FN",
        "outputId": "9563a5e3-d4a1-47fd-a1be-024645024423"
      },
      "execution_count": 32,
      "outputs": [
        {
          "output_type": "stream",
          "name": "stdout",
          "text": [
            "array('i', [4, 2, 5, 6, 7])\n",
            "array('i', [4, 2, 5, 6, 0, 7])\n",
            "array('i', [4, 2, 5, 6, 0, 7, 8])\n",
            "array('i', [5, 2, 3])\n",
            "array('i', [5, 2, 9])\n"
          ]
        }
      ]
    },
    {
      "cell_type": "code",
      "source": [
        "class Node: #function to initialize the node object\n",
        "  def __init__(self, data):\n",
        "    self.data = data # Asssign Data\n",
        "    self.next = None # Initialize as null   \n",
        "\n",
        "# Linked List class\n",
        "   \n",
        "\n",
        "# Function to initialize the linked \n",
        "#List object\n",
        "class LinkedList:\n",
        "      def __init(self,second):\n",
        "        self.head = None # Initialize head as null\n",
        "        self.second = None\n",
        "        self.third = None\n",
        "      \n",
        "      def printList(self):\n",
        "        temp = self.head\n",
        "        while(temp!=None):\n",
        "          print(temp.data)\n",
        "          temp = temp.next\n",
        "\n",
        "list = LinkedList () # Empty List\n",
        "list.head = Node(1)\n",
        "second = Node (2)\n",
        "third = Node(3)\n",
        "fourth = Node(4)\n",
        "\n",
        "list.head.next = second\n",
        "second.next = third\n",
        "third.next = fourth\n",
        "\n",
        "list.printList()\n",
        "\n"
      ],
      "metadata": {
        "colab": {
          "base_uri": "https://localhost:8080/"
        },
        "id": "ki0ZJzhR_one",
        "outputId": "314f9e78-29ce-43bc-deec-d80bd671eb70"
      },
      "execution_count": 45,
      "outputs": [
        {
          "output_type": "stream",
          "name": "stdout",
          "text": [
            "1\n",
            "2\n",
            "3\n",
            "4\n"
          ]
        }
      ]
    },
    {
      "cell_type": "code",
      "source": [],
      "metadata": {
        "id": "H7nDJjcbA82q"
      },
      "execution_count": null,
      "outputs": []
    }
  ]
}