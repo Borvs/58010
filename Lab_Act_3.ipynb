{
  "nbformat": 4,
  "nbformat_minor": 0,
  "metadata": {
    "colab": {
      "provenance": [],
      "authorship_tag": "ABX9TyPaHHYc8s+ubyTrK5ForciC",
      "include_colab_link": true
    },
    "kernelspec": {
      "name": "python3",
      "display_name": "Python 3"
    },
    "language_info": {
      "name": "python"
    }
  },
  "cells": [
    {
      "cell_type": "markdown",
      "metadata": {
        "id": "view-in-github",
        "colab_type": "text"
      },
      "source": [
        "<a href=\"https://colab.research.google.com/github/GabrielBoribor/DSA-58010/blob/main/Lab_Act_3.ipynb\" target=\"_parent\"><img src=\"https://colab.research.google.com/assets/colab-badge.svg\" alt=\"Open In Colab\"/></a>"
      ]
    },
    {
      "cell_type": "code",
      "execution_count": null,
      "metadata": {
        "colab": {
          "base_uri": "https://localhost:8080/"
        },
        "id": "GFB5f-Exe_73",
        "outputId": "62abd32b-8f16-4da8-f0ff-81cbc72ca910"
      },
      "outputs": [
        {
          "output_type": "stream",
          "name": "stdout",
          "text": [
            "Duplicate elements in this given array[1, 10, 3, 4, 3, 7, 6, 9, 6 ] is \n",
            "3\n",
            "6\n"
          ]
        }
      ],
      "source": [
        "#Initializing Array     \n",
        "array = [1, 10, 3, 4, 3, 7, 6, 9, 6 ];     \n",
        "     \n",
        "  \n",
        "#Finding repeated Elements in the Array\n",
        "print(\"Duplicate elements in this given array [1, 10, 3, 4, 3, 7, 6, 9, 6 ] is \"); \n",
        "for x in range(0, len(array)):    \n",
        "    for z in range(x+1, len(array)):    \n",
        "        if(array[x] == array[z]):     \n",
        "            print(array[z]);\n",
        "\n",
        "  \n"
      ]
    },
    {
      "cell_type": "code",
      "source": [],
      "metadata": {
        "id": "SBMz9EcOld9a"
      },
      "execution_count": null,
      "outputs": []
    },
    {
      "cell_type": "code",
      "source": [],
      "metadata": {
        "id": "VVwSia-QuZ_6"
      },
      "execution_count": null,
      "outputs": []
    }
  ]
}