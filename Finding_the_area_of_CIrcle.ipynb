{
  "nbformat": 4,
  "nbformat_minor": 0,
  "metadata": {
    "colab": {
      "name": "Finding the area of CIrcle.ipynb",
      "provenance": [],
      "authorship_tag": "ABX9TyPhdPD9x4zOdmsJWrs5ZeT1",
      "include_colab_link": true
    },
    "kernelspec": {
      "name": "python3",
      "display_name": "Python 3"
    },
    "language_info": {
      "name": "python"
    }
  },
  "cells": [
    {
      "cell_type": "markdown",
      "metadata": {
        "id": "view-in-github",
        "colab_type": "text"
      },
      "source": [
        "<a href=\"https://colab.research.google.com/github/GabrielBoribor/DSA-58010/blob/main/Finding_the_area_of_CIrcle.ipynb\" target=\"_parent\"><img src=\"https://colab.research.google.com/assets/colab-badge.svg\" alt=\"Open In Colab\"/></a>"
      ]
    },
    {
      "cell_type": "code",
      "execution_count": null,
      "metadata": {
        "id": "mHw0edeUTpmC"
      },
      "outputs": [],
      "source": [
        "class Circle:\n",
        "  def __init__(self,radius, pi):\n",
        "    self.radius = radius\n",
        "    self.pi = pi\n",
        "\n",
        "  def Area(self):\n",
        "    return self.pi * self.radius **2 \n",
        "\n",
        "  def Diameter(self):\n",
        "    return (self.pi*((self.radius*self.radius)**2)/4) \n",
        "\n",
        "  def display(self):\n",
        "    print(\"Area of Circle if radius is given is\", self.Area() )\n",
        "    print(\"Area of a Circle if the diameter is given is\", self.Diameter() )\n",
        "\n",
        "circ = Circle(int(input()),3.14159)\n",
        "circ.display()\n",
        "\n",
        "\n",
        "\n",
        "\n",
        "\n"
      ]
    },
    {
      "cell_type": "code",
      "source": [],
      "metadata": {
        "id": "JLOKmRGJZcc2"
      },
      "execution_count": null,
      "outputs": []
    }
  ]
}