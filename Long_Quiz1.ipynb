{
  "nbformat": 4,
  "nbformat_minor": 0,
  "metadata": {
    "colab": {
      "provenance": [],
      "authorship_tag": "ABX9TyNTL46Y3X64uLZVRsp4gV1q",
      "include_colab_link": true
    },
    "kernelspec": {
      "name": "python3",
      "display_name": "Python 3"
    },
    "language_info": {
      "name": "python"
    }
  },
  "cells": [
    {
      "cell_type": "markdown",
      "metadata": {
        "id": "view-in-github",
        "colab_type": "text"
      },
      "source": [
        "<a href=\"https://colab.research.google.com/github/GabrielBoribor/DSA-58010/blob/main/Long_Quiz1.ipynb\" target=\"_parent\"><img src=\"https://colab.research.google.com/assets/colab-badge.svg\" alt=\"Open In Colab\"/></a>"
      ]
    },
    {
      "cell_type": "code",
      "source": [
        "Choose either Array or Linked-List data structure\n",
        "Create a python "
      ],
      "metadata": {
        "id": "oaflrT9VNXtv"
      },
      "execution_count": null,
      "outputs": []
    },
    {
      "cell_type": "code",
      "execution_count": 5,
      "metadata": {
        "colab": {
          "base_uri": "https://localhost:8080/"
        },
        "id": "LWuur8c1NCct",
        "outputId": "0cd68c28-146d-44dc-8730-e75cd48d34a5"
      },
      "outputs": [
        {
          "output_type": "stream",
          "name": "stdout",
          "text": [
            "Please Enter Full Name: Gabriel Boribor\n",
            "r   o   b   i   r   o   B       l   e   i   r   b   a   G   "
          ]
        }
      ],
      "source": [
        "Namelists = input(str(\"Please Enter Full Name: \"))\n",
        "\n",
        "Namelist1 = list(Namelists)\n",
        "\n",
        "Namelist1.reverse()\n",
        "\n",
        "for x in Namelist1:\n",
        "    print (x, \" \" , end =' ')\n",
        "\n"
      ]
    }
  ]
}