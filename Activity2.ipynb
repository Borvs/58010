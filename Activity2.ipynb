{
  "nbformat": 4,
  "nbformat_minor": 0,
  "metadata": {
    "colab": {
      "provenance": [],
      "authorship_tag": "ABX9TyNzhg3JzcfU5JnwOKgjALHE",
      "include_colab_link": true
    },
    "kernelspec": {
      "name": "python3",
      "display_name": "Python 3"
    },
    "language_info": {
      "name": "python"
    }
  },
  "cells": [
    {
      "cell_type": "markdown",
      "metadata": {
        "id": "view-in-github",
        "colab_type": "text"
      },
      "source": [
        "<a href=\"https://colab.research.google.com/github/GabrielBoribor/DSA-58010/blob/main/Activity2.ipynb\" target=\"_parent\"><img src=\"https://colab.research.google.com/assets/colab-badge.svg\" alt=\"Open In Colab\"/></a>"
      ]
    },
    {
      "cell_type": "markdown",
      "source": [
        "Write a Python program to create a singly linked list of prime numbers less than 20. By iterating through the list, display all the prime numbers, the head, and the tail of the list. (using Google Colab)"
      ],
      "metadata": {
        "id": "N40ocKSVMfh-"
      }
    },
    {
      "cell_type": "code",
      "source": [
        "class LlNode:\n",
        "    def __init__(self, value, nextNode=None):\n",
        "        self.value = value\n",
        "        self.nextNode = nextNode\n",
        "\n",
        "node1 = LlNode(\"2\")\n",
        "node2 = LlNode(\"3\")\n",
        "node3 = LlNode(\"5\")\n",
        "node4 = LlNode(\"7\")\n",
        "node5 = LlNode(\"11\")\n",
        "node6 = LlNode(\"13\")\n",
        "node7 = LlNode(\"17\")\n",
        "node8 = LlNode(\"19\")\n",
        "\n",
        "node1.nextNode = node2\n",
        "node2.nextNode = node3\n",
        "node3.nextNode = node4\n",
        "node4.nextNode = node5\n",
        "node5.nextNode = node6\n",
        "node6.nextNode = node7\n",
        "node7.nextNode = node8\n",
        "\n",
        "Nodes = node1\n",
        "while True:\n",
        "    print(Nodes.value)\n",
        "    if Nodes.nextNode is None:\n",
        "        print(\"End\")\n",
        "        break\n",
        "    Nodes = Nodes.nextNode"
      ],
      "metadata": {
        "colab": {
          "base_uri": "https://localhost:8080/"
        },
        "id": "hNTl5fj0NhRI",
        "outputId": "39ce8b2b-f1b4-45ea-b627-234ac6a01ca3"
      },
      "execution_count": 25,
      "outputs": [
        {
          "output_type": "stream",
          "name": "stdout",
          "text": [
            "2\n",
            "3\n",
            "5\n",
            "7\n",
            "11\n",
            "13\n",
            "17\n",
            "19\n",
            "End\n"
          ]
        }
      ]
    },
    {
      "cell_type": "code",
      "source": [],
      "metadata": {
        "id": "iG8Y444sUojx"
      },
      "execution_count": null,
      "outputs": []
    }
  ]
}